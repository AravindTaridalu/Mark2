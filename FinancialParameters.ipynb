{
 "cells": [
  {
   "cell_type": "code",
   "execution_count": 274,
   "metadata": {},
   "outputs": [],
   "source": [
    "#Importing required libraries\n",
    "import pandas as pd\n",
    "import numpy as np\n",
    "from pandas_datareader import data\n",
    "import requests\n",
    "from math import sqrt\n",
    "import matplotlib.pyplot as plt\n",
    "plt.style.use('seaborn-whitegrid')\n",
    "%matplotlib inline\n"
   ]
  },
  {
   "cell_type": "code",
   "execution_count": 275,
   "metadata": {},
   "outputs": [],
   "source": [
    "portfolio = 1e5 #Portfolio total worth of 1 lakh\n",
    "tscost = 0.005 #Per trade transaction cost of 0.5%, so if two stocks of 30 each are bought, (1+0.005)*2*30 is charged in total\n",
    "nstocks = 0\n",
    "\n",
    "stock_list = ['BHEL.NS','ITC.NS','LUPIN.NS','RELIANCE.NS','IBVENTURES.NS'] #Stock list, to add a stock simply\n",
    "                                                                           #add the ticker according to Yahoo! Finance\n",
    "for stock in stock_list:\n",
    "    nstocks+=1          #Calculates number of stocks according to input stock list"
   ]
  },
  {
   "cell_type": "code",
   "execution_count": 276,
   "metadata": {},
   "outputs": [],
   "source": [
    "#Function to read Data\n",
    "def readData(ticker, n):\n",
    "    stocks.append(data.DataReader(ticker, 'yahoo',start='1/1/2015')) #Taking backtesting period as roughly 5 years"
   ]
  },
  {
   "cell_type": "markdown",
   "metadata": {},
   "source": [
    "# RSI Indicator"
   ]
  },
  {
   "cell_type": "code",
   "execution_count": 277,
   "metadata": {},
   "outputs": [],
   "source": [
    "def RSI(df1):\n",
    "    temp=df1['Adj Close'].diff()\n",
    "    diff_values=temp[~np.isnan(temp)]\n",
    "    o=df1['Open'].tolist()\n",
    "    c=np.zeros(len(df1))\n",
    "    df1['Position'] = 0\n",
    "    \n",
    "    \n",
    "    a=diff_values.index.tolist()\n",
    "    b=diff_values.tolist()\n",
    "    c=np.zeros(len(df1))\n",
    "   \n",
    "    RSI=pd.DataFrame()\n",
    "\n",
    "    count=0\n",
    "    for count in range(0,len(df1)-13):\n",
    "        \n",
    "        Total_loss=0\n",
    "        Total_gain=0\n",
    "        for i in range(count,count+13):\n",
    "            if(b[i]>0):\n",
    "                Total_gain+=b[i]\n",
    "                #print('Gain ',Total_gain)\n",
    "            \n",
    "            elif(b[i]<0):\n",
    "                Total_loss-=b[i]\n",
    "                \n",
    "            if(Total_loss!=0):\n",
    "                RS=Total_gain/Total_loss\n",
    "                \n",
    "                \n",
    "            \n",
    "        RSI_Val=100-(100/(1+RS))\n",
    "        \n",
    "        c[count+13]=RSI_Val\n",
    "        \n",
    "    \n",
    "    df1['RSI']=c\n",
    "   "
   ]
  },
  {
   "cell_type": "markdown",
   "metadata": {},
   "source": [
    "# Stochastic Oscillator"
   ]
  },
  {
   "cell_type": "code",
   "execution_count": 278,
   "metadata": {},
   "outputs": [],
   "source": [
    "#          If The 3 day moving average of %k defined as (Current close-lowest low(14D))/(Highest high(14D)-Lowest Low(14D))\n",
    "#           is above a certain value like say 90 as done in strategy it is in overbought and must be shorted and below 10 is \n",
    "#           considered oversold hence we must go long\n",
    "\n",
    "\n",
    "def StochasticOscillator(df1):\n",
    "    num_rows=df.shape[0]\n",
    "    h=df1['High'].tolist()#creating a temporary list containg adjusted high of each day \n",
    "    c=df1['Close'].tolist()#list containing adjusted close prices\n",
    "    lw=df1['Low'].tolist()#List containg adjusted low prices\n",
    "    b=np.zeros(len(df1))#Empty temporary array\n",
    "\n",
    "    count=0# Will be used to access each index of the list \n",
    "\n",
    "\n",
    "    for count in range(0,len(df1)-15):\n",
    "\n",
    "        MaxHigh=0#Used to store maximum high of 14 day period\n",
    "        MinLow=lw[count]#We are arbitrarily choosing lowest price of 1st day of 14 day period as minimum low for each period\n",
    "    \n",
    "        for i in range(count,count+15):\n",
    "            if(h[i]>MaxHigh):\n",
    "                MaxHigh=h[i]#Storing Maximum high\n",
    "            \n",
    "            \n",
    "            if(lw[i]<MinLow):\n",
    "                MinLow=lw[i]#Storing Minimum low\n",
    "    \n",
    "        k=((c[count+13]-MinLow)/(MaxHigh-MinLow))#calculating the stochastic oscillator\n",
    "    \n",
    "        b[count+15]=(k*100)#Storing values of stochastic oscillator conerting value to range in between 100 and 0.\n",
    " \n",
    "    df1['%k']=b\n",
    "    window=3\n",
    "    FSD=df1['%k'].rolling(window).mean()\n",
    "    df1['%d']=FSD\n"
   ]
  },
  {
   "cell_type": "code",
   "execution_count": 279,
   "metadata": {},
   "outputs": [],
   "source": [
    "# WE HAVE USED STOCHASTIC OSCILLATOR AND RSI INDICATOR BECAUSE STOCHASTIC OSCILLATOR IS USED IN SIDEWAYS MARKET AND\n",
    "# RSI IS USED IN VOLATILE MARKETS AS THEY ARE MOMENTUM INDICATORS THEY AREN'T IDEAL TO BE USED AS THE SOLE JUDGE. HENCE\n",
    "# WE USED A COMBINATION OF 2 TYPES OF MOMENTUM INDICATORS TO GENERATE A DECENT PROFIT.\n",
    "\n",
    "def Strategy(df1):\n",
    "    for row in range(len(df1)):\n",
    "        if(df1['Position'].iloc[row-1]==0):\n",
    "            if ((df1['RSI'].iloc[row] < 26) or (df1['%d'].iloc[row] < 10)):\n",
    "                df1['Position'].iloc[row] = -1\n",
    "\n",
    "            if ((df1['RSI'].iloc[row] > 86) or (df1['%d'].iloc[row] > 90)):\n",
    "                df1['Position'].iloc[row] = 1\n",
    "\n",
    "            \n",
    "        elif (df1['Position'].iloc[row-1]==1):\n",
    "            if ((df1['RSI'].iloc[row] > 86) or (df1['%d'].iloc[row] > 90)):\n",
    "                df1['Position'].iloc[row] = -1\n",
    "            else:\n",
    "                df1['Position'].iloc[row] = 0\n",
    "\n",
    "        else:\n",
    "            if ((df1['RSI'].iloc[row] < 26) or (df1['RSI'].iloc[row] < 10)):\n",
    "                df1['Position'].iloc[row] = -1\n",
    "            else:\n",
    "                df1['Position'].iloc[row] = 0\n"
   ]
  },
  {
   "cell_type": "code",
   "execution_count": 280,
   "metadata": {},
   "outputs": [
    {
     "name": "stderr",
     "output_type": "stream",
     "text": [
      "D:\\Anaconda\\lib\\site-packages\\pandas\\core\\indexing.py:205: SettingWithCopyWarning: \n",
      "A value is trying to be set on a copy of a slice from a DataFrame\n",
      "\n",
      "See the caveats in the documentation: http://pandas.pydata.org/pandas-docs/stable/user_guide/indexing.html#returning-a-view-versus-a-copy\n",
      "  self._setitem_with_indexer(indexer, value)\n"
     ]
    }
   ],
   "source": [
    "\n",
    "#Iterating over all the tickers to read data, generate Bollinger Bands and formulate portfolio positions based on strategy\n",
    "i = 0\n",
    "stocks = []\n",
    "for ticker in stock_list:\n",
    "    readData(ticker,i)\n",
    "    RSI(stocks[i])\n",
    "    StochasticOscillator(stocks[i])\n",
    "    Strategy(stocks[i])\n",
    "    i+=1"
   ]
  },
  {
   "cell_type": "code",
   "execution_count": 281,
   "metadata": {},
   "outputs": [
    {
     "data": {
      "text/plain": [
       "<matplotlib.axes._subplots.AxesSubplot at 0x27fcfc68108>"
      ]
     },
     "execution_count": 281,
     "metadata": {},
     "output_type": "execute_result"
    },
    {
     "data": {
      "image/png": "[encoded data removed]",
      "text/plain": [
       "<Figure size 432x288 with 1 Axes>"
      ]
     },
     "metadata": {
      "needs_background": "light"
     },
     "output_type": "display_data"
    }
   ],
   "source": [
    "s = (len(stocks[0]),nstocks) #setting the dimensions of the weights vector depending on the available data points\n",
    "weights = np.zeros(s) \n",
    "\n",
    "\n",
    "for row in range(len(stocks[0])):\n",
    "    i = 0\n",
    "    sumwts = 0\n",
    "    for i in range(nstocks):\n",
    "        sumwts+=np.abs(stocks[i]['Position'].iloc[row]) #checking how many positions were taken on that day\n",
    "    for i in range(nstocks):\n",
    "        if sumwts>0:\n",
    "            #weights assigned as:\n",
    "            #weights = (portfolio*position)/(no.of positions * adj close on that day * (1+transac cost))\n",
    "            weights[row][i]=(portfolio*stocks[i]['Position'].iloc[row])/((sumwts*stocks[i]['Adj Close'].iloc[row])*(1+tscost))\n",
    "        else:\n",
    "            weights[row][i]=0\n",
    "i = 0\n",
    "\n",
    "\n",
    "for i in range(nstocks):\n",
    "    stocks[i]['Market Return'] = (stocks[i]['Adj Close'] - stocks[i]['Adj Close'].shift(1)) #Absolute market return\n",
    "    #Personal Addendum, .shift(n) shifts control forward or backward by n rows depending on sign.\n",
    "\n",
    "    \n",
    "#Calculating portfolio return\n",
    "stocks[0]['Strategy Return']=0\n",
    "i = 0\n",
    "for i in range(nstocks):\n",
    "    stocks[0]['Strategy Return']+=stocks[i]['Market Return'] * weights[:,i] #multiplying market return of each\n",
    "                                                                            #ticker with its weight\n",
    "stocks[0]['Strategy Return'][64:].cumsum().plot() #Plotting strategy return"
   ]
  },
  {
   "cell_type": "code",
   "execution_count": 282,
   "metadata": {},
   "outputs": [
    {
     "data": {
      "text/plain": [
       "array([[ -124.56393801,   -90.78107176,   -14.31366783,   -48.09259025,\n",
       "         -988.53579938],\n",
       "       [ -121.50978256,   -90.49786318,   -14.28268834,   -48.2202173 ,\n",
       "         -961.93088853],\n",
       "       [ -122.35378819,   -90.1428432 ,   -14.30265965,   -48.75425366,\n",
       "         -955.99090809],\n",
       "       ...,\n",
       "       [-1433.75339156,  -244.05809316,     0.        ,     0.        ,\n",
       "            0.        ],\n",
       "       [-1405.40230612,  -240.69300685,     0.        ,     0.        ,\n",
       "            0.        ],\n",
       "       [    0.        ,     0.        ,     0.        ,     0.        ,\n",
       "            0.        ]])"
      ]
     },
     "execution_count": 282,
     "metadata": {},
     "output_type": "execute_result"
    }
   ],
   "source": [
    "weights"
   ]
  },
  {
   "cell_type": "code",
   "execution_count": null,
   "metadata": {},
   "outputs": [],
   "source": []
  }
 ],
 "metadata": {
  "kernelspec": {
   "display_name": "Python 3",
   "language": "python",
   "name": "python3"
  },
  "language_info": {
   "codemirror_mode": {
    "name": "ipython",
    "version": 3
   },
   "file_extension": ".py",
   "mimetype": "text/x-python",
   "name": "python",
   "nbconvert_exporter": "python",
   "pygments_lexer": "ipython3",
   "version": "3.7.4"
  }
 },
 "nbformat": 4,
 "nbformat_minor": 2
}
